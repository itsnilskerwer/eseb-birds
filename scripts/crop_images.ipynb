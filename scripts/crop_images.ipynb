{
 "cells": [
  {
   "cell_type": "code",
   "execution_count": 1,
   "id": "bce484b4-8dec-4d18-9a0d-443c44346e2e",
   "metadata": {},
   "outputs": [
    {
     "name": "stdout",
     "output_type": "stream",
     "text": [
      "3.8.10 (default, May 19 2021, 11:01:55) \n",
      "[Clang 10.0.0 ]\n"
     ]
    }
   ],
   "source": [
    "# Check if python is 3.8.10\n",
    "import csv\n",
    "import json\n",
    "import napari\n",
    "import numpy as np\n",
    "import os\n",
    "from skimage import io\n",
    "import sys\n",
    "\n",
    "print(sys.version)\n",
    "%load_ext autoreload\n",
    "%autoreload 2"
   ]
  },
  {
   "cell_type": "code",
   "execution_count": 2,
   "id": "1835555a-d025-4076-bda1-fe7f2baf32d7",
   "metadata": {},
   "outputs": [],
   "source": [
    "PATH_FILE = \"../index.json\"\n",
    "\n",
    "paths_dict = json.load(open(PATH_FILE, \"r\"));"
   ]
  },
  {
   "cell_type": "markdown",
   "id": "f05498a2-9021-47ee-9cf9-d02be57486ef",
   "metadata": {},
   "source": [
    "# Standardize the images"
   ]
  },
  {
   "cell_type": "markdown",
   "id": "c1abd8bd-b5e1-4ea9-b028-e2a5b7f46b8e",
   "metadata": {},
   "source": [
    "As of now, we have a lot of images in different dimensions... As we expect a standard (squared, pixel dimensions: 550 px), we need to crop and scale. This is done using `napari`, an interactive python tool."
   ]
  },
  {
   "cell_type": "markdown",
   "id": "94233920-cbec-494b-9bbe-ab4bb64e06b6",
   "metadata": {},
   "source": [
    "First we define the paths of all images to crop."
   ]
  },
  {
   "cell_type": "code",
   "execution_count": 3,
   "id": "505f311b-de84-41f0-bcc4-1ac31d72a653",
   "metadata": {},
   "outputs": [],
   "source": [
    "img_dirs = [paths_dict[\"IMAGE_SOURCE_FILES\"][\"WIKI\"],\n",
    "           paths_dict[\"IMAGE_SOURCE_FILES\"][\"NHMC\"]]\n",
    "\n",
    "cropped_dir = paths_dict[\"IMAGE_CROPPED_FILES\"][\"CROPPED_IMGS\"]\n",
    "cropping_logfile = paths_dict[\"IMAGE_CROPPED_FILES\"][\"CROPPING_INDEX\"]"
   ]
  },
  {
   "cell_type": "code",
   "execution_count": 4,
   "id": "c2000260-2548-4056-b29e-e1bc7aec1848",
   "metadata": {},
   "outputs": [],
   "source": [
    "images = []\n",
    "for img_dir in img_dirs:\n",
    "    files = [os.path.join(img_dir, fl) for fl in os.listdir(img_dir) if fl.lower().endswith(\"jpg\")]\n",
    "    images.extend(files)"
   ]
  },
  {
   "cell_type": "code",
   "execution_count": 5,
   "id": "c71c2ff0-ad96-4212-bea5-4351ccd1cb3a",
   "metadata": {},
   "outputs": [
    {
     "data": {
      "text/plain": [
       "['../data/images_source/ESEB gia web game_WIKI_photos/Cariama cristata.jpg',\n",
       " '../data/images_source/ESEB gia web game_WIKI_photos/Leptosomus discolor.jpg',\n",
       " '../data/images_source/ESEB gia web game_WIKI_photos/Fulmarus glacialis.jpg',\n",
       " '../data/images_source/ESEB gia web game_WIKI_photos/Apaloderma vittatum.jpg',\n",
       " '../data/images_source/ESEB gia web game_WIKI_photos/Buceros rhinoceros.jpg',\n",
       " '../data/images_source/ESEB gia web game_WIKI_photos/Mesitornis unicolor.jpg',\n",
       " '../data/images_source/ESEB gia web game_WIKI_photos/Acanthisitta chloris.jpg',\n",
       " '../data/images_source/ESEB gia web game_WIKI_photos/Eurypyga helias.jpg',\n",
       " '../data/images_source/ESEB gia web game_WIKI_photos/Chelonia mydas.jpg',\n",
       " '../data/images_source/ESEB gia web game_WIKI_photos/Melopsittacus undulatus.jpg',\n",
       " '../data/images_source/ESEB gia web game_WIKI_photos/Phoenicopterus ruber.jpg',\n",
       " '../data/images_source/ESEB gia web game_WIKI_photos/Geospiza fortis.jpg',\n",
       " '../data/images_source/ESEB gia web game_WIKI_photos/Gallus gallus domesticus.jpg',\n",
       " '../data/images_source/ESEB gia web game_WIKI_photos/Phaethon lepturus.jpg',\n",
       " '../data/images_source/ESEB gia web game_WIKI_photos/Colius striatus.jpg',\n",
       " '../data/images_source/ESEB gia web game_WIKI_photos/Nipponia nippon.jpg',\n",
       " '../data/images_source/ESEB gia web game_WIKI_photos/Taeniopygia guttata.jpg',\n",
       " '../data/images_source/ESEB gia web game_WIKI_photos/Tauraco erythrolophus.jpg',\n",
       " '../data/images_source/ESEB gia web game_WIKI_photos/Gavia stellata.jpg',\n",
       " '../data/images_source/ESEB gia web game_WIKI_photos/Balearica regulorum.jpg',\n",
       " '../data/images_source/ESEB gia web game_WIKI_photos/homo sapiens.jpg',\n",
       " '../data/images_source/ESEB gia web game_WIKI_photos/Manacus vitellinus.jpg',\n",
       " '../data/images_source/ESEB gia web game_WIKI_photos/Meleagris gallopavo.jpg',\n",
       " '../data/images_source/ESEB gia web game_WIKI_photos/Corvus brachyrhynchos.jpg',\n",
       " '../data/images_source/ESEB gia web game_WIKI_photos/Cathartes aura.jpg',\n",
       " '../data/images_source/ESEB gia web game_WIKI_photos/Antrostomus carolinensis.jpg',\n",
       " '../data/images_source/ESEB gia web game_WIKI_photos/Charadrius vociferus.jpg',\n",
       " '../data/images_source/ESEB gia web game_WIKI_photos/Merops nubicoides.jpg',\n",
       " '../data/images_source/ESEB gia web game_WIKI_photos/Opisthocomus hoazin.jpg',\n",
       " '../data/images_source/ESEB gia web game_WIKI_photos/Haliaeetus leucocephalus.jpg',\n",
       " '../data/images_source/ESEB gia web game_WIKI_photos/Pterocles gutturalis.jpg',\n",
       " '../data/images_source/ESEB gia web game_WIKI_photos/Picoides pubescens.jpg',\n",
       " '../data/images_source/ESEB gia web game_WIKI_photos/Nestor notabilis.jpg',\n",
       " '../data/images_source/ESEB gia web game_WIKI_photos/Chlamydotis macqueenii.jpg',\n",
       " '../data/images_source/ESEB gia web game_WIKI_photos/Tinamus guttatus.jpg',\n",
       " '../data/images_source/ESEB gia web game_WIKI_photos/Anolis carolinensis.jpg',\n",
       " '../data/images_source/ESEB gia web game_WIKI_photos/Alligator_mississippiensis.jpg',\n",
       " '../data/images_source/ESEB gia web game_WIKI_photos/Columba livia domestica.jpg',\n",
       " '../data/images_source/ESEB gia web game_WIKI_photos/Chaetura Pelagica.jpg',\n",
       " '../data/images_source/ESEB gia web game_WIKI_photos/Haliaeetus albicilla.jpg',\n",
       " '../data/images_source/ESEB gia web game_WIKI_photos/Calypte anna.jpg',\n",
       " '../data/images_source/ESEB gia web game_WIKI_photos/Aptenodytes forsteri.jpg',\n",
       " '../data/images_source/ESEB gia web game_WIKI_photos/Pygoscelis adeliae.jpg',\n",
       " '../data/images_source/ESEB gia web game _NHMC photos/Pelecanus crispus_122762_Charkoutsis,G.jpg',\n",
       " '../data/images_source/ESEB gia web game _NHMC photos/Cuculus canorus_95468_Barboutis,Ch.jpg',\n",
       " '../data/images_source/ESEB gia web game _NHMC photos/Anas platyrhynchos domestica_41789_Stathi,I..JPG',\n",
       " '../data/images_source/ESEB gia web game _NHMC photos/Podiceps cristatus_Trichas,A.49709.jpg',\n",
       " '../data/images_source/ESEB gia web game _NHMC photos/Phalacrocorax carbo_Dretakis,M.63737 .JPG',\n",
       " '../data/images_source/ESEB gia web game _NHMC photos/Tyto alba_33412_Trichas,A.jpg',\n",
       " '../data/images_source/ESEB gia web game _NHMC photos/Struthio camelus_111385_Baxevani,P.JPG',\n",
       " '../data/images_source/ESEB gia web game _NHMC photos/Falco peregrinus_106223_Trichas,A.JPG',\n",
       " '../data/images_source/ESEB gia web game _NHMC photos/Gallus domesticus_105903__Charkoutsis,G..JPG',\n",
       " '../data/images_source/ESEB gia web game _NHMC photos/Egretta garzetta_133389_Anagnostopoulou.jpg']"
      ]
     },
     "execution_count": 5,
     "metadata": {},
     "output_type": "execute_result"
    }
   ],
   "source": [
    "images"
   ]
  },
  {
   "cell_type": "code",
   "execution_count": null,
   "id": "ae1094fb-927e-48a0-a767-c357fb9498b0",
   "metadata": {},
   "outputs": [],
   "source": []
  },
  {
   "cell_type": "markdown",
   "id": "aee4a62a-85fd-4c7d-8387-9187fd87d1d4",
   "metadata": {},
   "source": [
    "Then we open the `napari` GUI and add all images. Therefore, we use comfortable functions that we define here and in `napari_utils.py`."
   ]
  },
  {
   "cell_type": "code",
   "execution_count": 6,
   "id": "188303d6-ae7a-42d5-87ab-3d0578d4182e",
   "metadata": {},
   "outputs": [],
   "source": [
    "from napari_utils import NapariIMG\n",
    "from napari_utils import rescale_to_square\n",
    "from napari_utils import save_cropping_areas"
   ]
  },
  {
   "cell_type": "code",
   "execution_count": 7,
   "id": "b88057b1-ebd5-485b-9d41-1629cf1ab89b",
   "metadata": {},
   "outputs": [],
   "source": [
    "import ipywidgets as widgets\n",
    "\n",
    "def make_button():\n",
    "    '''Install a simple button widget.\n",
    "    '''\n",
    "    layout = widgets.Layout(width='auto', height='40px')\n",
    "    button = widgets.Button(\n",
    "        value=False,\n",
    "        description='Wait for prompt...',\n",
    "        disabled=False,\n",
    "        button_style='info',\n",
    "        display='flex',\n",
    "        flex_flow='column',\n",
    "        align_items='stretch',\n",
    "        layout=layout\n",
    "    )\n",
    "    return button"
   ]
  },
  {
   "cell_type": "code",
   "execution_count": 8,
   "id": "5576368b-8cbd-4828-8f2c-ad7690e10c6e",
   "metadata": {},
   "outputs": [],
   "source": [
    "import asyncio\n",
    "\n",
    "def wait_for_change(widget):\n",
    "    future = asyncio.Future()\n",
    "    def getvalue(change):\n",
    "        future.set_result(change.get_state())\n",
    "        widget.on_click(getvalue)\n",
    "    widget.on_click(getvalue)\n",
    "    return future"
   ]
  },
  {
   "cell_type": "code",
   "execution_count": 9,
   "id": "f92d853d-fd58-4c96-b600-56ba9524a2d5",
   "metadata": {},
   "outputs": [],
   "source": [
    "async def crop_all_images(button, image_list, output_dir, \n",
    "                          cropping_dict={}, force=False, skip_first_n=0,\n",
    "                          cropping_csv_file_name=None):\n",
    "    img_count = len(image_list)\n",
    "    for i, img in enumerate(image_list):\n",
    "        if skip_first_n > i : continue\n",
    "        # open a napari viewer and load image\n",
    "        viewer = napari.Viewer()\n",
    "        nimg = NapariIMG(img, viewer, output_dir=output_dir)\n",
    "\n",
    "        # add the square and manually adjust it\n",
    "        nimg.add_square()\n",
    "\n",
    "        # prompt a button to press when editing is done\n",
    "        \n",
    "        # wait for repsonse of editor\n",
    "        button.description = f\"Choose cropping selection for image ({i+1}/{img_count})\"\n",
    "        await wait_for_change(button)\n",
    "\n",
    "        # compute the optimal square\n",
    "        opti_square = nimg.optimize_square()\n",
    "        \n",
    "        # ... and show it ...\n",
    "        nimg.plot_optimal_square()\n",
    "        \n",
    "        # until the editor decides to proceed\n",
    "        if i == img_count : button.description = f\"Crop last image\"\n",
    "        else : button.description = f\"Crop and show next image ({i+2}/{img_count})\"\n",
    "        await wait_for_change(button)\n",
    "        \n",
    "        # store the cropping area and save cropped image, we resacale to 550x550\n",
    "        cropping_dict[nimg.alias] = nimg.crop_dict\n",
    "        nimg.save_cropped(rescaling_function=rescale_to_square, force=force,\n",
    "                         cropping_csv_file_name=cropping_csv_file_name)\n",
    "        \n",
    "        # close the viewer to proceed\n",
    "        viewer.close()"
   ]
  },
  {
   "cell_type": "markdown",
   "id": "cbe4c76c-c48e-43a2-9fbe-a5656fa3d9be",
   "metadata": {},
   "source": [
    "Now it is time to interactively decide how to crop the images."
   ]
  },
  {
   "cell_type": "code",
   "execution_count": 10,
   "id": "57172cee-a3a1-48f6-9c89-680cb410f315",
   "metadata": {},
   "outputs": [
    {
     "data": {
      "application/vnd.jupyter.widget-view+json": {
       "model_id": "b0bd729ae83e445999f65982be52b2f9",
       "version_major": 2,
       "version_minor": 0
      },
      "text/plain": [
       "Button(button_style='info', description='Wait for prompt...', layout=Layout(height='40px', width='auto'), styl…"
      ]
     },
     "metadata": {},
     "output_type": "display_data"
    }
   ],
   "source": [
    "if not os.path.exists(cropped_dir) : os.makedirs(cropped_dir)\n",
    "\n",
    "button = make_button()\n",
    "cropping_thread = asyncio.create_task(\n",
    "    crop_all_images(button, images, cropped_dir, cropping_csv_file_name=cropping_logfile))\n",
    "button"
   ]
  },
  {
   "cell_type": "markdown",
   "id": "5b05e090-c3ba-4292-b2dc-67244fdf0968",
   "metadata": {},
   "source": [
    "From the cropping thread we read out the dictionary that stores all cropping areas."
   ]
  },
  {
   "cell_type": "code",
   "execution_count": null,
   "id": "db58a247-cba2-45d7-878b-7675a1838921",
   "metadata": {
    "tags": []
   },
   "outputs": [],
   "source": [
    "cropping_dict = cropping_thread.result()\n",
    "save_cropping_areas(cropping_dict, file_name, force=False, append=False)"
   ]
  },
  {
   "cell_type": "markdown",
   "id": "208f378a-37ff-47e6-b82a-954b37eb855c",
   "metadata": {},
   "source": [
    "So now we are done :)"
   ]
  }
 ],
 "metadata": {
  "kernelspec": {
   "display_name": "Python 3",
   "language": "python",
   "name": "python3"
  },
  "language_info": {
   "codemirror_mode": {
    "name": "ipython",
    "version": 3
   },
   "file_extension": ".py",
   "mimetype": "text/x-python",
   "name": "python",
   "nbconvert_exporter": "python",
   "pygments_lexer": "ipython3",
   "version": "3.8.10"
  }
 },
 "nbformat": 4,
 "nbformat_minor": 5
}
